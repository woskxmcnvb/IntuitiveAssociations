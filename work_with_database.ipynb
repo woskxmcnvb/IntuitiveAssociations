{
 "cells": [
  {
   "cell_type": "code",
   "execution_count": 2,
   "id": "33c5443f",
   "metadata": {
    "tags": []
   },
   "outputs": [],
   "source": [
    "%load_ext autoreload\n",
    "%autoreload 2\n",
    "\n",
    "import pandas as pd \n",
    "import numpy as np\n",
    "\n",
    "import matplotlib.pyplot as plt \n",
    "import seaborn as sns\n",
    "\n",
    "from IntuitiveAssociations import IADatabase, IAReporter  "
   ]
  },
  {
   "cell_type": "markdown",
   "id": "5fac4b86",
   "metadata": {
    "heading_collapsed": true,
    "jp-MarkdownHeadingCollapsed": true,
    "tags": []
   },
   "source": [
    "# Первоначальная заливка. Не использовать больше "
   ]
  },
  {
   "cell_type": "code",
   "execution_count": 27,
   "id": "ce094520",
   "metadata": {
    "hidden": true
   },
   "outputs": [],
   "source": [
    "db = IADatabase()\n",
    "db.Serialize('dump.pickle')"
   ]
  },
  {
   "cell_type": "code",
   "execution_count": 43,
   "id": "9648c3cd",
   "metadata": {
    "hidden": true
   },
   "outputs": [
    {
     "name": "stdout",
     "output_type": "stream",
     "text": [
      "Этого проекта нет в базе. Добавлено\n",
      "Отчет готов\n",
      "Этого проекта нет в базе. Добавлено\n",
      "Отчет готов\n",
      "Этого проекта нет в базе. Добавлено\n",
      "Отчет готов\n",
      "ОШИБКА ЧТЕНИЯ: Неправильные категории в столбце IA_ANSWER\n",
      "Прервано\n",
      "Этого проекта нет в базе. Добавлено\n",
      "Отчет готов\n"
     ]
    }
   ],
   "source": [
    "reporter = IAReporter() \n",
    "ad = reporter.BuildJobReport('sources/16956_AI_transformed.xlsx', 16956, 'adhoq')\n",
    "\n",
    "reporter = IAReporter() \n",
    "ad = reporter.BuildJobReport('sources/17224_AI_transformed.xlsx', 17224, 'ad.look')\n",
    "\n",
    "reporter = IAReporter() \n",
    "ad = reporter.BuildJobReport('sources/17234_AI_transformed.xlsx', 17234, 'ad.look')\n",
    "\n",
    "reporter = IAReporter() \n",
    "ad = reporter.BuildJobReport('sources/17240_AI_transformed.xlsx', 17240, 'adhoq')\n",
    "\n",
    "reporter = IAReporter() \n",
    "ad = reporter.BuildJobReport('sources/17258_AI_transformed.xlsx', 17258, 'ad.look')\n",
    "\n",
    "reporter = IAReporter() \n",
    "ad = reporter.BuildJobReport('sources/17262_AI_transformed.xlsx', 17262, 'ad.look')"
   ]
  },
  {
   "cell_type": "markdown",
   "id": "1fc64ddb",
   "metadata": {},
   "source": [
    "# Добавление реклам"
   ]
  },
  {
   "cell_type": "code",
   "execution_count": 49,
   "id": "41ff4152",
   "metadata": {},
   "outputs": [
    {
     "name": "stdout",
     "output_type": "stream",
     "text": [
      "Job  17277\n",
      "Этот проект уже в базе\n",
      "Отчет готов\n"
     ]
    }
   ],
   "source": [
    "reporter = IAReporter() \n",
    "ad = reporter.BuildJobReport('sources/17277_AI_transformed.xlsx', 17277, 'ad.look')"
   ]
  },
  {
   "cell_type": "code",
   "execution_count": 4,
   "id": "65b90349",
   "metadata": {},
   "outputs": [
    {
     "name": "stdout",
     "output_type": "stream",
     "text": [
      "Job  17261\n",
      "Этого проекта нет в базе. Добавлено\n",
      "Отчет готов\n"
     ]
    }
   ],
   "source": [
    "reporter = IAReporter() \n",
    "ad = reporter.BuildJobReport('sources/17261_AI_transformed.xlsx', 17261, 'ad.look')"
   ]
  },
  {
   "cell_type": "code",
   "execution_count": 3,
   "id": "dac2501a",
   "metadata": {},
   "outputs": [
    {
     "name": "stdout",
     "output_type": "stream",
     "text": [
      "Job  17291\n",
      "Этого проекта нет в базе. Добавлено\n",
      "Отчет готов\n"
     ]
    }
   ],
   "source": [
    "reporter = IAReporter() \n",
    "ad = reporter.BuildJobReport('sources/17291_AI_transformed.xlsx', 17291, 'adhoq')"
   ]
  },
  {
   "cell_type": "code",
   "execution_count": 3,
   "id": "00e79be6",
   "metadata": {},
   "outputs": [
    {
     "name": "stdout",
     "output_type": "stream",
     "text": [
      "Job  17269\n",
      "Этого проекта нет в базе. Добавлено\n",
      "Отчет готов\n"
     ]
    }
   ],
   "source": [
    "reporter = IAReporter() \n",
    "ad = reporter.BuildJobReport('sources/17269_AI_transformed.xlsx', 17269, 'ad.look')"
   ]
  },
  {
   "cell_type": "code",
   "execution_count": 2,
   "id": "4b267458",
   "metadata": {},
   "outputs": [
    {
     "name": "stdout",
     "output_type": "stream",
     "text": [
      "Job  17301\n",
      "Этого проекта нет в базе. Добавлено\n",
      "Отчет готов\n"
     ]
    }
   ],
   "source": [
    "reporter = IAReporter() \n",
    "ad = reporter.BuildJobReport('sources/17301_AI_transformed.xlsx', 17301, 'ad.look')"
   ]
  },
  {
   "cell_type": "code",
   "execution_count": 4,
   "id": "539d6a20",
   "metadata": {},
   "outputs": [
    {
     "name": "stdout",
     "output_type": "stream",
     "text": [
      "Job  17278\n",
      "Этого проекта нет в базе. Добавлено\n",
      "Отчет готов\n"
     ]
    }
   ],
   "source": [
    "reporter = IAReporter() \n",
    "ad = reporter.BuildJobReport('sources/17278_AI_transformed.xlsx', 17278, 'ad.look')"
   ]
  },
  {
   "cell_type": "code",
   "execution_count": 2,
   "id": "a81c24d2",
   "metadata": {},
   "outputs": [
    {
     "name": "stdout",
     "output_type": "stream",
     "text": [
      "Job  17285\n",
      "Этого проекта нет в базе. Добавлено\n",
      "Отчет готов\n"
     ]
    }
   ],
   "source": [
    "reporter = IAReporter() \n",
    "ad = reporter.BuildJobReport('sources/17285_AI_transformed.xlsx', 17285, 'ad.look')"
   ]
  },
  {
   "cell_type": "code",
   "execution_count": null,
   "id": "457d2170-cfed-4837-9ad7-92621e79b37f",
   "metadata": {
    "tags": []
   },
   "outputs": [],
   "source": [
    "reporter = IAReporter() \n",
    "ad = reporter.BuildJobReport('sources/17322_AI_transformed.xlsx', 17322, 'ad.look')"
   ]
  },
  {
   "cell_type": "code",
   "execution_count": null,
   "id": "02fcfd97",
   "metadata": {},
   "outputs": [],
   "source": [
    "reporter = IAReporter() \n",
    "ad = reporter.BuildJobReport('sources/17346_AI_transformed.xlsx', 17346, 'ad.look')"
   ]
  },
  {
   "cell_type": "code",
   "execution_count": null,
   "id": "0fb48f4e",
   "metadata": {
    "scrolled": true
   },
   "outputs": [],
   "source": [
    "reporter = IAReporter() \n",
    "ad = reporter.BuildJobReport('sources/17357_AI_transformed.xlsx', 17357, 'ad.look')"
   ]
  },
  {
   "cell_type": "code",
   "execution_count": null,
   "id": "a14649f2",
   "metadata": {},
   "outputs": [],
   "source": [
    "reporter = IAReporter() \n",
    "ad = reporter.BuildJobReport('sources/17337_AI_transformed.xlsx', 17337, 'ad.look')"
   ]
  },
  {
   "cell_type": "code",
   "execution_count": 2,
   "id": "07dd1a60-67e0-483c-a09e-5257ad3e9a08",
   "metadata": {
    "tags": []
   },
   "outputs": [
    {
     "name": "stdout",
     "output_type": "stream",
     "text": [
      "Job  17363\n",
      "Этого проекта нет в базе. Добавлено\n",
      "Отчет готов\n"
     ]
    }
   ],
   "source": [
    "reporter = IAReporter() \n",
    "ad = reporter.BuildJobReport('sources/17363_AI_transformed.xlsx', 17363, 'ad.look')"
   ]
  },
  {
   "cell_type": "code",
   "execution_count": 3,
   "id": "ae0e226e-3636-4252-9dcb-7723d1b3eda5",
   "metadata": {
    "tags": []
   },
   "outputs": [
    {
     "name": "stdout",
     "output_type": "stream",
     "text": [
      "Job  17362\n",
      "Этого проекта нет в базе. Добавлено\n",
      "Отчет готов\n"
     ]
    }
   ],
   "source": [
    "reporter = IAReporter() \n",
    "ad = reporter.BuildJobReport('sources/17362_AI_transformed.xlsx', 17362, 'ad.look')"
   ]
  },
  {
   "cell_type": "code",
   "execution_count": null,
   "id": "457cf99b",
   "metadata": {
    "tags": []
   },
   "outputs": [
    {
     "name": "stdout",
     "output_type": "stream",
     "text": [
      "Job  17342\n",
      "Этот проект уже в базе\n"
     ]
    }
   ],
   "source": [
    "reporter = IAReporter() \n",
    "ad = reporter.BuildJobReport('sources/17342_AI_transformed.xlsx', 17342, 'adhoq')"
   ]
  },
  {
   "cell_type": "code",
   "execution_count": 3,
   "id": "4fdc76bb",
   "metadata": {},
   "outputs": [
    {
     "name": "stdout",
     "output_type": "stream",
     "text": [
      "Job  17352\n",
      "Этот проект уже в базе\n",
      "Отчет готов\n"
     ]
    }
   ],
   "source": [
    "reporter = IAReporter() \n",
    "ad = reporter.BuildJobReport('sources/17352_AI_transformed.xlsx', 17352, 'adhoq')"
   ]
  },
  {
   "cell_type": "code",
   "execution_count": 3,
   "id": "bec3bf23-3b7e-408c-954b-8041b308d866",
   "metadata": {
    "tags": []
   },
   "outputs": [
    {
     "name": "stdout",
     "output_type": "stream",
     "text": [
      "Job  17400\n",
      "Этого проекта нет в базе. Добавлено\n",
      "Отчет готов\n"
     ]
    }
   ],
   "source": [
    "reporter = IAReporter() \n",
    "ad = reporter.BuildJobReport('sources/17400_AI_transformed.xlsx', 17400, 'ad.look')"
   ]
  },
  {
   "cell_type": "code",
   "execution_count": 2,
   "id": "9726636a-3416-4539-a7f9-b3cbe657052b",
   "metadata": {
    "tags": []
   },
   "outputs": [
    {
     "name": "stdout",
     "output_type": "stream",
     "text": [
      "Job  16962\n",
      "Этот проект уже в базе\n",
      "Отчет готов\n"
     ]
    }
   ],
   "source": [
    "reporter = IAReporter() \n",
    "ad = reporter.BuildJobReport('sources/16962_AI_transformed.xlsx', 16962, 'adhoq')"
   ]
  },
  {
   "cell_type": "code",
   "execution_count": 8,
   "id": "e8152af3",
   "metadata": {},
   "outputs": [
    {
     "name": "stdout",
     "output_type": "stream",
     "text": [
      "Job  17402\n",
      "Этого проекта нет в базе. Добавлено\n",
      "Отчет готов\n"
     ]
    }
   ],
   "source": [
    "reporter = IAReporter() \n",
    "ad = reporter.BuildJobReport('sources/17402_AI_transformed.xlsx', 17402, 'ad.look')"
   ]
  },
  {
   "cell_type": "code",
   "execution_count": 2,
   "id": "8cb121fe",
   "metadata": {},
   "outputs": [
    {
     "name": "stdout",
     "output_type": "stream",
     "text": [
      "Job  17347\n",
      "Этого проекта нет в базе. Добавлено\n",
      "Отчет готов\n"
     ]
    }
   ],
   "source": [
    "reporter = IAReporter() \n",
    "ad = reporter.BuildJobReport('sources/17347_AI_transformed.xlsx', 17347, 'adhoq')"
   ]
  },
  {
   "cell_type": "code",
   "execution_count": 2,
   "id": "8b07b8e4-3899-484e-a775-9d213d45fc7a",
   "metadata": {
    "tags": []
   },
   "outputs": [
    {
     "name": "stdout",
     "output_type": "stream",
     "text": [
      "Job  17554\n",
      "Этого проекта нет в базе. Добавлено\n",
      "Отчет готов\n"
     ]
    }
   ],
   "source": [
    "reporter = IAReporter() \n",
    "ad = reporter.BuildJobReport('sources/17554_AI_transformed.xlsx', 17554, 'ad.look')"
   ]
  },
  {
   "cell_type": "code",
   "execution_count": 2,
   "id": "005d0698-acbe-4087-ae3a-7c82373cc919",
   "metadata": {
    "tags": []
   },
   "outputs": [
    {
     "name": "stdout",
     "output_type": "stream",
     "text": [
      "Job  17338\n",
      "Этого проекта нет в базе. Добавлено\n",
      "Отчет готов\n"
     ]
    }
   ],
   "source": [
    "reporter = IAReporter() \n",
    "ad = reporter.BuildJobReport('sources/17338_AI_transformed.xlsx', 17338, 'ad.look')"
   ]
  },
  {
   "cell_type": "code",
   "execution_count": 2,
   "id": "52c657fe-6eb4-4133-bf98-7fe8bf59727f",
   "metadata": {
    "tags": []
   },
   "outputs": [
    {
     "name": "stdout",
     "output_type": "stream",
     "text": [
      "Job  17509\n",
      "Этого проекта нет в базе. Добавлено\n",
      "Отчет готов\n"
     ]
    }
   ],
   "source": [
    "reporter = IAReporter() \n",
    "ad = reporter.BuildJobReport('sources/17509_AI_transformed.xlsx', 17509, 'ad.look')"
   ]
  },
  {
   "cell_type": "code",
   "execution_count": 3,
   "id": "1862b633-bfe8-453d-b964-81e3b164d767",
   "metadata": {
    "tags": []
   },
   "outputs": [
    {
     "name": "stdout",
     "output_type": "stream",
     "text": [
      "Job  17553\n",
      "Этого проекта нет в базе. Добавлено\n",
      "Отчет готов\n"
     ]
    }
   ],
   "source": [
    "reporter = IAReporter() \n",
    "ad = reporter.BuildJobReport('sources/17553_AI_transformed.xlsx', 17553, 'ad.look')"
   ]
  },
  {
   "cell_type": "code",
   "execution_count": 3,
   "id": "4cae873c-9df0-45a8-b953-3a1ee5ee672f",
   "metadata": {
    "tags": []
   },
   "outputs": [
    {
     "name": "stdout",
     "output_type": "stream",
     "text": [
      "Job  17470\n",
      "Этого проекта нет в базе. Добавлено\n",
      "Отчет готов\n"
     ]
    }
   ],
   "source": [
    "reporter = IAReporter() \n",
    "ad = reporter.BuildJobReport('sources/17470_AI_transformed.xlsx', 17470, 'ad.look')"
   ]
  },
  {
   "cell_type": "markdown",
   "id": "9c8a788a",
   "metadata": {},
   "source": [
    "# Check database"
   ]
  },
  {
   "cell_type": "code",
   "execution_count": 48,
   "id": "bb8ebfa3",
   "metadata": {},
   "outputs": [
    {
     "name": "stdout",
     "output_type": "stream",
     "text": [
      "Job  17262\n",
      "Этот проект уже в базе\n",
      "Отчет готов\n"
     ]
    }
   ],
   "source": [
    "reporter = IAReporter() \n",
    "ad = reporter.BuildJobReport('sources/17262_AI_transformed.xlsx', 17262, 'ad.look')"
   ]
  },
  {
   "cell_type": "code",
   "execution_count": 6,
   "id": "950efe11",
   "metadata": {},
   "outputs": [],
   "source": [
    "db.Deserialize('dump.pickle')\n",
    "\n",
    "db.DropJobs([17402])\n",
    "db.Serialize('dump.pickle')"
   ]
  },
  {
   "cell_type": "code",
   "execution_count": 7,
   "id": "dd292cbd",
   "metadata": {
    "tags": []
   },
   "outputs": [
    {
     "name": "stdout",
     "output_type": "stream",
     "text": [
      "[16956 17224 17234 17240 17262 17258 17277 17261 17291 17269 17301 17278\n",
      " 17285 17322 17346 17357 17337 17363 17362 17342 17352 17400 16962 17347]\n",
      "Index(['JOB_ID', 'JOB_TYPE', 'QST_NO', 'IA_CELL', 'IA_ORD', 'IA_WORDS',\n",
      "       'IA_MS', 'IA_ANSWER', 'IA_ATTEMP', 'IA_AD_BRAND', 'IA_WTYPE'],\n",
      "      dtype='object') 11\n",
      "Index(['ЗАРЯЖАЮЩИЙ', 'СОВРЕМЕННЫЙ', 'УВЕРЕННАЯ', 'РАДУЮЩИЙ', 'ИТАЛЬЯНСКАЯ',\n",
      "       'ДИНАМИЧНАЯ', 'ИНТЕРЕСНЫЙ', 'КАЧЕСТВЕННАЯ', 'ЮМОРНАЯ', 'НЕМЕЦКАЯ',\n",
      "       ...\n",
      "       'ПОДЛИННЫЕ', 'ЗАБОТЛИВАЯ', 'СТИЛЬНАЯ', 'МОДНАЯ', 'ЯРКАЯ', 'УЛЕТНАЯ',\n",
      "       'СТАРОМОДНАЯ', 'КОМФОРТНАЯ', 'ПРИВЛЕКАТЕЛЬНАЯ', 'БЛИЗКАЯ'],\n",
      "      dtype='object', length=147)\n"
     ]
    }
   ],
   "source": [
    "db = IADatabase()\n",
    "db.Deserialize('dump.pickle')\n",
    "print(db.JobList())\n",
    "print(db.columns, len(db.columns))\n",
    "print(db.loc[:, 'IA_WORDS'].cat.categories)"
   ]
  },
  {
   "cell_type": "markdown",
   "id": "8d650f94",
   "metadata": {},
   "source": [
    "# Sandbox"
   ]
  },
  {
   "cell_type": "code",
   "execution_count": 3,
   "id": "7a0bddb3",
   "metadata": {},
   "outputs": [],
   "source": [
    "reporter = IAReporter()\n",
    "reporter.version\n",
    "\n",
    "#data = reporter.ReadDataFile('sources/17224_AI_transformed.xlsx', 17224, 'ad.look')\n",
    "data = reporter.ReadDataFile('sources/17277_AI_transformed.xlsx', 77779, 'ad.look')"
   ]
  },
  {
   "cell_type": "code",
   "execution_count": 4,
   "id": "0aa696dd",
   "metadata": {
    "collapsed": true,
    "jupyter": {
     "outputs_hidden": true
    }
   },
   "outputs": [
    {
     "data": {
      "text/html": [
       "<div>\n",
       "<style scoped>\n",
       "    .dataframe tbody tr th:only-of-type {\n",
       "        vertical-align: middle;\n",
       "    }\n",
       "\n",
       "    .dataframe tbody tr th {\n",
       "        vertical-align: top;\n",
       "    }\n",
       "\n",
       "    .dataframe thead th {\n",
       "        text-align: right;\n",
       "    }\n",
       "</style>\n",
       "<table border=\"1\" class=\"dataframe\">\n",
       "  <thead>\n",
       "    <tr style=\"text-align: right;\">\n",
       "      <th></th>\n",
       "      <th>QST_NO</th>\n",
       "      <th>SEX</th>\n",
       "      <th>QC20</th>\n",
       "      <th>Quota.1</th>\n",
       "      <th>Quota.2</th>\n",
       "      <th>Quota.5</th>\n",
       "      <th>IA_CELL</th>\n",
       "      <th>IA_ORD</th>\n",
       "      <th>IA_WORDS</th>\n",
       "      <th>IA_MS</th>\n",
       "      <th>IA_ANSWER</th>\n",
       "      <th>IA_ATTEMP</th>\n",
       "      <th>IA_AD_BRAND</th>\n",
       "      <th>IA_WTYPE</th>\n",
       "      <th>JOB_ID</th>\n",
       "      <th>JOB_TYPE</th>\n",
       "    </tr>\n",
       "  </thead>\n",
       "  <tbody>\n",
       "    <tr>\n",
       "      <th>0</th>\n",
       "      <td>18</td>\n",
       "      <td>2</td>\n",
       "      <td>1</td>\n",
       "      <td>1</td>\n",
       "      <td>0</td>\n",
       "      <td>1</td>\n",
       "      <td>1</td>\n",
       "      <td>1</td>\n",
       "      <td>УБЕДИТЕЛЬНАЯ</td>\n",
       "      <td>1056</td>\n",
       "      <td>Yes</td>\n",
       "      <td>1</td>\n",
       "      <td>ad</td>\n",
       "      <td>warm_up</td>\n",
       "      <td>77779</td>\n",
       "      <td>ad.look</td>\n",
       "    </tr>\n",
       "    <tr>\n",
       "      <th>1</th>\n",
       "      <td>18</td>\n",
       "      <td>2</td>\n",
       "      <td>1</td>\n",
       "      <td>1</td>\n",
       "      <td>0</td>\n",
       "      <td>1</td>\n",
       "      <td>1</td>\n",
       "      <td>5</td>\n",
       "      <td>НЕИНТЕРЕСНАЯ</td>\n",
       "      <td>852</td>\n",
       "      <td>No</td>\n",
       "      <td>1</td>\n",
       "      <td>ad</td>\n",
       "      <td>warm_up</td>\n",
       "      <td>77779</td>\n",
       "      <td>ad.look</td>\n",
       "    </tr>\n",
       "    <tr>\n",
       "      <th>2</th>\n",
       "      <td>18</td>\n",
       "      <td>2</td>\n",
       "      <td>1</td>\n",
       "      <td>1</td>\n",
       "      <td>0</td>\n",
       "      <td>1</td>\n",
       "      <td>1</td>\n",
       "      <td>2</td>\n",
       "      <td>ВЕЛИКОЛЕПНАЯ</td>\n",
       "      <td>679</td>\n",
       "      <td>Yes</td>\n",
       "      <td>1</td>\n",
       "      <td>ad</td>\n",
       "      <td>warm_up</td>\n",
       "      <td>77779</td>\n",
       "      <td>ad.look</td>\n",
       "    </tr>\n",
       "    <tr>\n",
       "      <th>3</th>\n",
       "      <td>18</td>\n",
       "      <td>2</td>\n",
       "      <td>1</td>\n",
       "      <td>1</td>\n",
       "      <td>0</td>\n",
       "      <td>1</td>\n",
       "      <td>1</td>\n",
       "      <td>3</td>\n",
       "      <td>СЕРАЯ</td>\n",
       "      <td>901</td>\n",
       "      <td>No</td>\n",
       "      <td>1</td>\n",
       "      <td>ad</td>\n",
       "      <td>warm_up</td>\n",
       "      <td>77779</td>\n",
       "      <td>ad.look</td>\n",
       "    </tr>\n",
       "    <tr>\n",
       "      <th>4</th>\n",
       "      <td>18</td>\n",
       "      <td>2</td>\n",
       "      <td>1</td>\n",
       "      <td>1</td>\n",
       "      <td>0</td>\n",
       "      <td>1</td>\n",
       "      <td>1</td>\n",
       "      <td>4</td>\n",
       "      <td>ДИНАМИЧНАЯ</td>\n",
       "      <td>795</td>\n",
       "      <td>Yes</td>\n",
       "      <td>1</td>\n",
       "      <td>ad</td>\n",
       "      <td>warm_up</td>\n",
       "      <td>77779</td>\n",
       "      <td>ad.look</td>\n",
       "    </tr>\n",
       "    <tr>\n",
       "      <th>...</th>\n",
       "      <td>...</td>\n",
       "      <td>...</td>\n",
       "      <td>...</td>\n",
       "      <td>...</td>\n",
       "      <td>...</td>\n",
       "      <td>...</td>\n",
       "      <td>...</td>\n",
       "      <td>...</td>\n",
       "      <td>...</td>\n",
       "      <td>...</td>\n",
       "      <td>...</td>\n",
       "      <td>...</td>\n",
       "      <td>...</td>\n",
       "      <td>...</td>\n",
       "      <td>...</td>\n",
       "      <td>...</td>\n",
       "    </tr>\n",
       "    <tr>\n",
       "      <th>3895</th>\n",
       "      <td>1033</td>\n",
       "      <td>2</td>\n",
       "      <td>2</td>\n",
       "      <td>1</td>\n",
       "      <td>0</td>\n",
       "      <td>1</td>\n",
       "      <td>1</td>\n",
       "      <td>9</td>\n",
       "      <td>НАТУРАЛЬНАЯ</td>\n",
       "      <td>558</td>\n",
       "      <td>Yes</td>\n",
       "      <td>1</td>\n",
       "      <td>brand</td>\n",
       "      <td>active</td>\n",
       "      <td>77779</td>\n",
       "      <td>ad.look</td>\n",
       "    </tr>\n",
       "    <tr>\n",
       "      <th>3896</th>\n",
       "      <td>1033</td>\n",
       "      <td>2</td>\n",
       "      <td>2</td>\n",
       "      <td>1</td>\n",
       "      <td>0</td>\n",
       "      <td>1</td>\n",
       "      <td>1</td>\n",
       "      <td>13</td>\n",
       "      <td>ПОНИМАЮЩАЯ</td>\n",
       "      <td>662</td>\n",
       "      <td>Yes</td>\n",
       "      <td>1</td>\n",
       "      <td>brand</td>\n",
       "      <td>active</td>\n",
       "      <td>77779</td>\n",
       "      <td>ad.look</td>\n",
       "    </tr>\n",
       "    <tr>\n",
       "      <th>3897</th>\n",
       "      <td>1033</td>\n",
       "      <td>2</td>\n",
       "      <td>2</td>\n",
       "      <td>1</td>\n",
       "      <td>0</td>\n",
       "      <td>1</td>\n",
       "      <td>1</td>\n",
       "      <td>10</td>\n",
       "      <td>ПОЛЕЗНАЯ</td>\n",
       "      <td>633</td>\n",
       "      <td>Yes</td>\n",
       "      <td>1</td>\n",
       "      <td>brand</td>\n",
       "      <td>active</td>\n",
       "      <td>77779</td>\n",
       "      <td>ad.look</td>\n",
       "    </tr>\n",
       "    <tr>\n",
       "      <th>3898</th>\n",
       "      <td>1033</td>\n",
       "      <td>2</td>\n",
       "      <td>2</td>\n",
       "      <td>1</td>\n",
       "      <td>0</td>\n",
       "      <td>1</td>\n",
       "      <td>1</td>\n",
       "      <td>7</td>\n",
       "      <td>ПРОВЕРЕННАЯ</td>\n",
       "      <td>1325</td>\n",
       "      <td>Yes</td>\n",
       "      <td>1</td>\n",
       "      <td>brand</td>\n",
       "      <td>active</td>\n",
       "      <td>77779</td>\n",
       "      <td>ad.look</td>\n",
       "    </tr>\n",
       "    <tr>\n",
       "      <th>3899</th>\n",
       "      <td>1033</td>\n",
       "      <td>2</td>\n",
       "      <td>2</td>\n",
       "      <td>1</td>\n",
       "      <td>0</td>\n",
       "      <td>1</td>\n",
       "      <td>1</td>\n",
       "      <td>8</td>\n",
       "      <td>ДРУЖЕЛЮБНАЯ</td>\n",
       "      <td>684</td>\n",
       "      <td>Yes</td>\n",
       "      <td>1</td>\n",
       "      <td>brand</td>\n",
       "      <td>active</td>\n",
       "      <td>77779</td>\n",
       "      <td>ad.look</td>\n",
       "    </tr>\n",
       "  </tbody>\n",
       "</table>\n",
       "<p>3900 rows × 16 columns</p>\n",
       "</div>"
      ],
      "text/plain": [
       "      QST_NO  SEX  QC20  Quota.1  Quota.2  Quota.5  IA_CELL  IA_ORD  \\\n",
       "0         18    2     1        1        0        1        1       1   \n",
       "1         18    2     1        1        0        1        1       5   \n",
       "2         18    2     1        1        0        1        1       2   \n",
       "3         18    2     1        1        0        1        1       3   \n",
       "4         18    2     1        1        0        1        1       4   \n",
       "...      ...  ...   ...      ...      ...      ...      ...     ...   \n",
       "3895    1033    2     2        1        0        1        1       9   \n",
       "3896    1033    2     2        1        0        1        1      13   \n",
       "3897    1033    2     2        1        0        1        1      10   \n",
       "3898    1033    2     2        1        0        1        1       7   \n",
       "3899    1033    2     2        1        0        1        1       8   \n",
       "\n",
       "          IA_WORDS  IA_MS IA_ANSWER  IA_ATTEMP IA_AD_BRAND IA_WTYPE  JOB_ID  \\\n",
       "0     УБЕДИТЕЛЬНАЯ   1056       Yes          1          ad  warm_up   77779   \n",
       "1     НЕИНТЕРЕСНАЯ    852        No          1          ad  warm_up   77779   \n",
       "2     ВЕЛИКОЛЕПНАЯ    679       Yes          1          ad  warm_up   77779   \n",
       "3            СЕРАЯ    901        No          1          ad  warm_up   77779   \n",
       "4       ДИНАМИЧНАЯ    795       Yes          1          ad  warm_up   77779   \n",
       "...            ...    ...       ...        ...         ...      ...     ...   \n",
       "3895   НАТУРАЛЬНАЯ    558       Yes          1       brand   active   77779   \n",
       "3896    ПОНИМАЮЩАЯ    662       Yes          1       brand   active   77779   \n",
       "3897      ПОЛЕЗНАЯ    633       Yes          1       brand   active   77779   \n",
       "3898   ПРОВЕРЕННАЯ   1325       Yes          1       brand   active   77779   \n",
       "3899   ДРУЖЕЛЮБНАЯ    684       Yes          1       brand   active   77779   \n",
       "\n",
       "     JOB_TYPE  \n",
       "0     ad.look  \n",
       "1     ad.look  \n",
       "2     ad.look  \n",
       "3     ad.look  \n",
       "4     ad.look  \n",
       "...       ...  \n",
       "3895  ad.look  \n",
       "3896  ad.look  \n",
       "3897  ad.look  \n",
       "3898  ad.look  \n",
       "3899  ad.look  \n",
       "\n",
       "[3900 rows x 16 columns]"
      ]
     },
     "execution_count": 4,
     "metadata": {},
     "output_type": "execute_result"
    }
   ],
   "source": [
    "data"
   ]
  },
  {
   "cell_type": "code",
   "execution_count": 16,
   "id": "f3c43173",
   "metadata": {},
   "outputs": [
    {
     "data": {
      "text/plain": [
       "1089.7154837496705"
      ]
     },
     "execution_count": 16,
     "metadata": {},
     "output_type": "execute_result"
    }
   ],
   "source": [
    "db = IADatabase()\n",
    "db.Deserialize('dump.pickle')\n",
    "\n",
    "db.RespondentSpeed(['ad.look'], ['ad'])"
   ]
  },
  {
   "cell_type": "code",
   "execution_count": 17,
   "id": "7c003784",
   "metadata": {
    "collapsed": true,
    "jupyter": {
     "outputs_hidden": true
    }
   },
   "outputs": [
    {
     "name": "stderr",
     "output_type": "stream",
     "text": [
      "C:\\!Work\\2023 IA\\IntuitiveAssociations\\IntuitiveAssociations.py:106: FutureWarning: The default of observed=False is deprecated and will be changed to True in a future version of pandas. Pass observed=False to retain current behavior or observed=True to adopt the future default and silence this warning.\n",
      "  return self.loc[self.GetShitFilter(), selection].groupby(grouper).agg(['mean', 'std'])\n"
     ]
    },
    {
     "data": {
      "text/html": [
       "<div>\n",
       "<style scoped>\n",
       "    .dataframe tbody tr th:only-of-type {\n",
       "        vertical-align: middle;\n",
       "    }\n",
       "\n",
       "    .dataframe tbody tr th {\n",
       "        vertical-align: top;\n",
       "    }\n",
       "\n",
       "    .dataframe thead tr th {\n",
       "        text-align: left;\n",
       "    }\n",
       "\n",
       "    .dataframe thead tr:last-of-type th {\n",
       "        text-align: right;\n",
       "    }\n",
       "</style>\n",
       "<table border=\"1\" class=\"dataframe\">\n",
       "  <thead>\n",
       "    <tr>\n",
       "      <th></th>\n",
       "      <th></th>\n",
       "      <th></th>\n",
       "      <th colspan=\"2\" halign=\"left\">IA_MS</th>\n",
       "    </tr>\n",
       "    <tr>\n",
       "      <th></th>\n",
       "      <th></th>\n",
       "      <th></th>\n",
       "      <th>mean</th>\n",
       "      <th>std</th>\n",
       "    </tr>\n",
       "    <tr>\n",
       "      <th>JOB_TYPE</th>\n",
       "      <th>IA_AD_BRAND</th>\n",
       "      <th>IA_ANSWER</th>\n",
       "      <th></th>\n",
       "      <th></th>\n",
       "    </tr>\n",
       "  </thead>\n",
       "  <tbody>\n",
       "    <tr>\n",
       "      <th rowspan=\"4\" valign=\"top\">ad.look</th>\n",
       "      <th rowspan=\"2\" valign=\"top\">ad</th>\n",
       "      <th>Yes</th>\n",
       "      <td>1070.699329</td>\n",
       "      <td>415.667838</td>\n",
       "    </tr>\n",
       "    <tr>\n",
       "      <th>No</th>\n",
       "      <td>1087.575565</td>\n",
       "      <td>404.250056</td>\n",
       "    </tr>\n",
       "    <tr>\n",
       "      <th rowspan=\"2\" valign=\"top\">brand</th>\n",
       "      <th>Yes</th>\n",
       "      <td>886.492229</td>\n",
       "      <td>375.557597</td>\n",
       "    </tr>\n",
       "    <tr>\n",
       "      <th>No</th>\n",
       "      <td>1063.384241</td>\n",
       "      <td>417.603458</td>\n",
       "    </tr>\n",
       "    <tr>\n",
       "      <th rowspan=\"4\" valign=\"top\">adhoq</th>\n",
       "      <th rowspan=\"2\" valign=\"top\">ad</th>\n",
       "      <th>Yes</th>\n",
       "      <td>NaN</td>\n",
       "      <td>NaN</td>\n",
       "    </tr>\n",
       "    <tr>\n",
       "      <th>No</th>\n",
       "      <td>NaN</td>\n",
       "      <td>NaN</td>\n",
       "    </tr>\n",
       "    <tr>\n",
       "      <th rowspan=\"2\" valign=\"top\">brand</th>\n",
       "      <th>Yes</th>\n",
       "      <td>962.775941</td>\n",
       "      <td>418.807607</td>\n",
       "    </tr>\n",
       "    <tr>\n",
       "      <th>No</th>\n",
       "      <td>1051.136300</td>\n",
       "      <td>504.913939</td>\n",
       "    </tr>\n",
       "  </tbody>\n",
       "</table>\n",
       "</div>"
      ],
      "text/plain": [
       "                                      IA_MS            \n",
       "                                       mean         std\n",
       "JOB_TYPE IA_AD_BRAND IA_ANSWER                         \n",
       "ad.look  ad          Yes        1070.699329  415.667838\n",
       "                     No         1087.575565  404.250056\n",
       "         brand       Yes         886.492229  375.557597\n",
       "                     No         1063.384241  417.603458\n",
       "adhoq    ad          Yes                NaN         NaN\n",
       "                     No                 NaN         NaN\n",
       "         brand       Yes         962.775941  418.807607\n",
       "                     No         1051.136300  504.913939"
      ]
     },
     "execution_count": 17,
     "metadata": {},
     "output_type": "execute_result"
    }
   ],
   "source": [
    "db.GetNorms()"
   ]
  },
  {
   "cell_type": "code",
   "execution_count": null,
   "id": "f49db811",
   "metadata": {},
   "outputs": [],
   "source": []
  },
  {
   "cell_type": "markdown",
   "id": "3e0b4de5",
   "metadata": {},
   "source": [
    "### ищем косяки"
   ]
  },
  {
   "cell_type": "code",
   "execution_count": 18,
   "id": "60ec4060",
   "metadata": {},
   "outputs": [],
   "source": [
    "from openpyxl.utils.dataframe import dataframe_to_rows"
   ]
  },
  {
   "cell_type": "code",
   "execution_count": 26,
   "id": "07a2b653",
   "metadata": {
    "scrolled": true
   },
   "outputs": [
    {
     "data": {
      "text/html": [
       "<div>\n",
       "<style scoped>\n",
       "    .dataframe tbody tr th:only-of-type {\n",
       "        vertical-align: middle;\n",
       "    }\n",
       "\n",
       "    .dataframe tbody tr th {\n",
       "        vertical-align: top;\n",
       "    }\n",
       "\n",
       "    .dataframe thead th {\n",
       "        text-align: right;\n",
       "    }\n",
       "</style>\n",
       "<table border=\"1\" class=\"dataframe\">\n",
       "  <thead>\n",
       "    <tr style=\"text-align: right;\">\n",
       "      <th></th>\n",
       "      <th>IA_CELL</th>\n",
       "      <th>IA_AD_BRAND</th>\n",
       "      <th>IA_WORDS</th>\n",
       "      <th>IA_ANSWER</th>\n",
       "      <th>is_fast</th>\n",
       "    </tr>\n",
       "  </thead>\n",
       "  <tbody>\n",
       "    <tr>\n",
       "      <th>0</th>\n",
       "      <td>1</td>\n",
       "      <td>brand</td>\n",
       "      <td>АРОМАТНЫЕ</td>\n",
       "      <td>0.918367</td>\n",
       "      <td>0.244444</td>\n",
       "    </tr>\n",
       "    <tr>\n",
       "      <th>1</th>\n",
       "      <td>1</td>\n",
       "      <td>brand</td>\n",
       "      <td>ВКУСНЫЕ</td>\n",
       "      <td>0.765306</td>\n",
       "      <td>0.266667</td>\n",
       "    </tr>\n",
       "    <tr>\n",
       "      <th>2</th>\n",
       "      <td>1</td>\n",
       "      <td>brand</td>\n",
       "      <td>ИЗВЕСТНЫЕ</td>\n",
       "      <td>0.704082</td>\n",
       "      <td>0.130435</td>\n",
       "    </tr>\n",
       "    <tr>\n",
       "      <th>3</th>\n",
       "      <td>1</td>\n",
       "      <td>brand</td>\n",
       "      <td>ИННОВАЦИОННЫЕ</td>\n",
       "      <td>0.562500</td>\n",
       "      <td>0.055556</td>\n",
       "    </tr>\n",
       "    <tr>\n",
       "      <th>4</th>\n",
       "      <td>1</td>\n",
       "      <td>brand</td>\n",
       "      <td>ИНОСТРАННЫЕ</td>\n",
       "      <td>0.635417</td>\n",
       "      <td>0.147541</td>\n",
       "    </tr>\n",
       "    <tr>\n",
       "      <th>...</th>\n",
       "      <td>...</td>\n",
       "      <td>...</td>\n",
       "      <td>...</td>\n",
       "      <td>...</td>\n",
       "      <td>...</td>\n",
       "    </tr>\n",
       "    <tr>\n",
       "      <th>164</th>\n",
       "      <td>13</td>\n",
       "      <td>brand</td>\n",
       "      <td>ПОПУЛЯРНЫЕ</td>\n",
       "      <td>0.785714</td>\n",
       "      <td>0.142857</td>\n",
       "    </tr>\n",
       "    <tr>\n",
       "      <th>165</th>\n",
       "      <td>13</td>\n",
       "      <td>brand</td>\n",
       "      <td>ПРЕМИАЛЬНЫЕ</td>\n",
       "      <td>0.855670</td>\n",
       "      <td>0.060241</td>\n",
       "    </tr>\n",
       "    <tr>\n",
       "      <th>166</th>\n",
       "      <td>13</td>\n",
       "      <td>brand</td>\n",
       "      <td>ПРИВЛЕКАТЕЛЬНЫЕ</td>\n",
       "      <td>0.958763</td>\n",
       "      <td>0.139785</td>\n",
       "    </tr>\n",
       "    <tr>\n",
       "      <th>167</th>\n",
       "      <td>13</td>\n",
       "      <td>brand</td>\n",
       "      <td>СОВРЕМЕННЫЕ</td>\n",
       "      <td>0.959596</td>\n",
       "      <td>0.168421</td>\n",
       "    </tr>\n",
       "    <tr>\n",
       "      <th>168</th>\n",
       "      <td>13</td>\n",
       "      <td>brand</td>\n",
       "      <td>СТИЛЬНЫЕ</td>\n",
       "      <td>0.910000</td>\n",
       "      <td>0.142857</td>\n",
       "    </tr>\n",
       "  </tbody>\n",
       "</table>\n",
       "<p>169 rows × 5 columns</p>\n",
       "</div>"
      ],
      "text/plain": [
       "     IA_CELL IA_AD_BRAND         IA_WORDS  IA_ANSWER   is_fast\n",
       "0          1       brand        АРОМАТНЫЕ   0.918367  0.244444\n",
       "1          1       brand          ВКУСНЫЕ   0.765306  0.266667\n",
       "2          1       brand        ИЗВЕСТНЫЕ   0.704082  0.130435\n",
       "3          1       brand    ИННОВАЦИОННЫЕ   0.562500  0.055556\n",
       "4          1       brand      ИНОСТРАННЫЕ   0.635417  0.147541\n",
       "..       ...         ...              ...        ...       ...\n",
       "164       13       brand       ПОПУЛЯРНЫЕ   0.785714  0.142857\n",
       "165       13       brand      ПРЕМИАЛЬНЫЕ   0.855670  0.060241\n",
       "166       13       brand  ПРИВЛЕКАТЕЛЬНЫЕ   0.958763  0.139785\n",
       "167       13       brand      СОВРЕМЕННЫЕ   0.959596  0.168421\n",
       "168       13       brand         СТИЛЬНЫЕ   0.910000  0.142857\n",
       "\n",
       "[169 rows x 5 columns]"
      ]
     },
     "execution_count": 26,
     "metadata": {},
     "output_type": "execute_result"
    }
   ],
   "source": [
    "tab = pd.concat(\n",
    "    [\n",
    "        pd.pivot_table(ad[ad['no_shit']], \n",
    "               index=['IA_CELL', 'IA_AD_BRAND', 'IA_WORDS'], \n",
    "               values='IA_ANSWER', \n",
    "               aggfunc=lambda x: x.value_counts()['Yes'] / len(x)),\n",
    "\n",
    "        pd.pivot_table(ad[ad['no_shit'] & (ad['IA_ANSWER'] == 'Yes')], \n",
    "               index=['IA_CELL', 'IA_AD_BRAND', 'IA_WORDS'], \n",
    "               values='is_fast', \n",
    "               aggfunc=lambda x: x.value_counts()['fast'] / len(x))\n",
    "    ], \n",
    "    axis=1\n",
    ").reset_index()\n",
    "\n",
    "tab"
   ]
  },
  {
   "cell_type": "code",
   "execution_count": 25,
   "id": "4055b40a",
   "metadata": {},
   "outputs": [
    {
     "name": "stdout",
     "output_type": "stream",
     "text": [
      "[None, 'IA_CELL', 'IA_AD_BRAND', 'IA_WORDS', 'IA_ANSWER', 'is_fast']\n",
      "[None]\n",
      "[0, 1, 'b', 'А', 0.9183673469387755, 0.24444444444444444]\n",
      "[1, 1, 'r', 'Р', 0.7653061224489796, 0.26666666666666666]\n",
      "[2, 1, 'a', 'О', 0.7040816326530612, 0.13043478260869565]\n",
      "[3, 1, 'n', 'М', 0.5625, 0.05555555555555555]\n",
      "[4, 1, 'd', 'А', 0.6354166666666666, 0.14754098360655737]\n"
     ]
    },
    {
     "ename": "IndexError",
     "evalue": "string index out of range",
     "output_type": "error",
     "traceback": [
      "\u001b[1;31m---------------------------------------------------------------------------\u001b[0m",
      "\u001b[1;31mIndexError\u001b[0m                                Traceback (most recent call last)",
      "Cell \u001b[1;32mIn[25], line 1\u001b[0m\n\u001b[1;32m----> 1\u001b[0m \u001b[38;5;28;01mfor\u001b[39;00m r \u001b[38;5;129;01min\u001b[39;00m dataframe_to_rows(tab):\n\u001b[0;32m      2\u001b[0m     \u001b[38;5;28mprint\u001b[39m(r)\n",
      "File \u001b[1;32m~\\AppData\\Local\\anaconda3\\Lib\\site-packages\\openpyxl\\utils\\dataframe.py:58\u001b[0m, in \u001b[0;36mdataframe_to_rows\u001b[1;34m(df, index, header)\u001b[0m\n\u001b[0;32m     55\u001b[0m     expanded \u001b[38;5;241m=\u001b[39m expand_index(df\u001b[38;5;241m.\u001b[39mindex)\n\u001b[0;32m     57\u001b[0m \u001b[38;5;28;01mfor\u001b[39;00m idx, v \u001b[38;5;129;01min\u001b[39;00m \u001b[38;5;28menumerate\u001b[39m(expanded):\n\u001b[1;32m---> 58\u001b[0m     row \u001b[38;5;241m=\u001b[39m [data[j][idx] \u001b[38;5;28;01mfor\u001b[39;00m j \u001b[38;5;129;01min\u001b[39;00m \u001b[38;5;28mrange\u001b[39m(ncols)]\n\u001b[0;32m     59\u001b[0m     \u001b[38;5;28;01mif\u001b[39;00m index:\n\u001b[0;32m     60\u001b[0m         row \u001b[38;5;241m=\u001b[39m v \u001b[38;5;241m+\u001b[39m row\n",
      "File \u001b[1;32m~\\AppData\\Local\\anaconda3\\Lib\\site-packages\\openpyxl\\utils\\dataframe.py:58\u001b[0m, in \u001b[0;36m<listcomp>\u001b[1;34m(.0)\u001b[0m\n\u001b[0;32m     55\u001b[0m     expanded \u001b[38;5;241m=\u001b[39m expand_index(df\u001b[38;5;241m.\u001b[39mindex)\n\u001b[0;32m     57\u001b[0m \u001b[38;5;28;01mfor\u001b[39;00m idx, v \u001b[38;5;129;01min\u001b[39;00m \u001b[38;5;28menumerate\u001b[39m(expanded):\n\u001b[1;32m---> 58\u001b[0m     row \u001b[38;5;241m=\u001b[39m [data[j][idx] \u001b[38;5;28;01mfor\u001b[39;00m j \u001b[38;5;129;01min\u001b[39;00m \u001b[38;5;28mrange\u001b[39m(ncols)]\n\u001b[0;32m     59\u001b[0m     \u001b[38;5;28;01mif\u001b[39;00m index:\n\u001b[0;32m     60\u001b[0m         row \u001b[38;5;241m=\u001b[39m v \u001b[38;5;241m+\u001b[39m row\n",
      "\u001b[1;31mIndexError\u001b[0m: string index out of range"
     ]
    }
   ],
   "source": [
    "for r in dataframe_to_rows(tab):\n",
    "    print(r)"
   ]
  }
 ],
 "metadata": {
  "kernelspec": {
   "display_name": "Python 3 (ipykernel)",
   "language": "python",
   "name": "python3"
  },
  "language_info": {
   "codemirror_mode": {
    "name": "ipython",
    "version": 3
   },
   "file_extension": ".py",
   "mimetype": "text/x-python",
   "name": "python",
   "nbconvert_exporter": "python",
   "pygments_lexer": "ipython3",
   "version": "3.11.5"
  }
 },
 "nbformat": 4,
 "nbformat_minor": 5
}
