{
 "cells": [
  {
   "cell_type": "code",
   "execution_count": 1,
   "id": "33c5443f",
   "metadata": {
    "tags": []
   },
   "outputs": [],
   "source": [
    "%load_ext autoreload\n",
    "%autoreload 2\n",
    "\n",
    "import pandas as pd \n",
    "import numpy as np\n",
    "\n",
    "import matplotlib.pyplot as plt \n",
    "import seaborn as sns\n",
    "\n",
    "from IntuitiveAssociations import IADatabase, IAReporter  "
   ]
  },
  {
   "cell_type": "markdown",
   "id": "5fac4b86",
   "metadata": {
    "heading_collapsed": true,
    "jp-MarkdownHeadingCollapsed": true,
    "tags": []
   },
   "source": [
    "# Первоначальная заливка. Не использовать больше "
   ]
  },
  {
   "cell_type": "code",
   "execution_count": 27,
   "id": "ce094520",
   "metadata": {
    "hidden": true
   },
   "outputs": [],
   "source": [
    "db = IADatabase()\n",
    "db.Serialize('dump.pickle')"
   ]
  },
  {
   "cell_type": "code",
   "execution_count": 43,
   "id": "9648c3cd",
   "metadata": {
    "hidden": true
   },
   "outputs": [
    {
     "name": "stdout",
     "output_type": "stream",
     "text": [
      "Этого проекта нет в базе. Добавлено\n",
      "Отчет готов\n",
      "Этого проекта нет в базе. Добавлено\n",
      "Отчет готов\n",
      "Этого проекта нет в базе. Добавлено\n",
      "Отчет готов\n",
      "ОШИБКА ЧТЕНИЯ: Неправильные категории в столбце IA_ANSWER\n",
      "Прервано\n",
      "Этого проекта нет в базе. Добавлено\n",
      "Отчет готов\n"
     ]
    }
   ],
   "source": [
    "reporter = IAReporter() \n",
    "ad = reporter.BuildJobReport('sources/16956_AI_transformed.xlsx', 16956, 'adhoq')\n",
    "\n",
    "reporter = IAReporter() \n",
    "ad = reporter.BuildJobReport('sources/17224_AI_transformed.xlsx', 17224, 'ad.look')\n",
    "\n",
    "reporter = IAReporter() \n",
    "ad = reporter.BuildJobReport('sources/17234_AI_transformed.xlsx', 17234, 'ad.look')\n",
    "\n",
    "reporter = IAReporter() \n",
    "ad = reporter.BuildJobReport('sources/17240_AI_transformed.xlsx', 17240, 'adhoq')\n",
    "\n",
    "reporter = IAReporter() \n",
    "ad = reporter.BuildJobReport('sources/17258_AI_transformed.xlsx', 17258, 'ad.look')\n",
    "\n",
    "reporter = IAReporter() \n",
    "ad = reporter.BuildJobReport('sources/17262_AI_transformed.xlsx', 17262, 'ad.look')"
   ]
  },
  {
   "cell_type": "markdown",
   "id": "1fc64ddb",
   "metadata": {},
   "source": [
    "# Добавление реклам"
   ]
  },
  {
   "cell_type": "code",
   "execution_count": 49,
   "id": "41ff4152",
   "metadata": {},
   "outputs": [
    {
     "name": "stdout",
     "output_type": "stream",
     "text": [
      "Job  17277\n",
      "Этот проект уже в базе\n",
      "Отчет готов\n"
     ]
    }
   ],
   "source": [
    "reporter = IAReporter() \n",
    "ad = reporter.BuildJobReport('sources/17277_AI_transformed.xlsx', 17277, 'ad.look')"
   ]
  },
  {
   "cell_type": "code",
   "execution_count": 4,
   "id": "65b90349",
   "metadata": {},
   "outputs": [
    {
     "name": "stdout",
     "output_type": "stream",
     "text": [
      "Job  17261\n",
      "Этого проекта нет в базе. Добавлено\n",
      "Отчет готов\n"
     ]
    }
   ],
   "source": [
    "reporter = IAReporter() \n",
    "ad = reporter.BuildJobReport('sources/17261_AI_transformed.xlsx', 17261, 'ad.look')"
   ]
  },
  {
   "cell_type": "code",
   "execution_count": 3,
   "id": "dac2501a",
   "metadata": {},
   "outputs": [
    {
     "name": "stdout",
     "output_type": "stream",
     "text": [
      "Job  17291\n",
      "Этого проекта нет в базе. Добавлено\n",
      "Отчет готов\n"
     ]
    }
   ],
   "source": [
    "reporter = IAReporter() \n",
    "ad = reporter.BuildJobReport('sources/17291_AI_transformed.xlsx', 17291, 'adhoq')"
   ]
  },
  {
   "cell_type": "code",
   "execution_count": 3,
   "id": "00e79be6",
   "metadata": {},
   "outputs": [
    {
     "name": "stdout",
     "output_type": "stream",
     "text": [
      "Job  17269\n",
      "Этого проекта нет в базе. Добавлено\n",
      "Отчет готов\n"
     ]
    }
   ],
   "source": [
    "reporter = IAReporter() \n",
    "ad = reporter.BuildJobReport('sources/17269_AI_transformed.xlsx', 17269, 'ad.look')"
   ]
  },
  {
   "cell_type": "code",
   "execution_count": 2,
   "id": "4b267458",
   "metadata": {},
   "outputs": [
    {
     "name": "stdout",
     "output_type": "stream",
     "text": [
      "Job  17301\n",
      "Этого проекта нет в базе. Добавлено\n",
      "Отчет готов\n"
     ]
    }
   ],
   "source": [
    "reporter = IAReporter() \n",
    "ad = reporter.BuildJobReport('sources/17301_AI_transformed.xlsx', 17301, 'ad.look')"
   ]
  },
  {
   "cell_type": "code",
   "execution_count": 4,
   "id": "539d6a20",
   "metadata": {},
   "outputs": [
    {
     "name": "stdout",
     "output_type": "stream",
     "text": [
      "Job  17278\n",
      "Этого проекта нет в базе. Добавлено\n",
      "Отчет готов\n"
     ]
    }
   ],
   "source": [
    "reporter = IAReporter() \n",
    "ad = reporter.BuildJobReport('sources/17278_AI_transformed.xlsx', 17278, 'ad.look')"
   ]
  },
  {
   "cell_type": "code",
   "execution_count": 2,
   "id": "a81c24d2",
   "metadata": {},
   "outputs": [
    {
     "name": "stdout",
     "output_type": "stream",
     "text": [
      "Job  17285\n",
      "Этого проекта нет в базе. Добавлено\n",
      "Отчет готов\n"
     ]
    }
   ],
   "source": [
    "reporter = IAReporter() \n",
    "ad = reporter.BuildJobReport('sources/17285_AI_transformed.xlsx', 17285, 'ad.look')"
   ]
  },
  {
   "cell_type": "code",
   "execution_count": null,
   "id": "457d2170-cfed-4837-9ad7-92621e79b37f",
   "metadata": {
    "tags": []
   },
   "outputs": [],
   "source": [
    "reporter = IAReporter() \n",
    "ad = reporter.BuildJobReport('sources/17322_AI_transformed.xlsx', 17322, 'ad.look')"
   ]
  },
  {
   "cell_type": "code",
   "execution_count": null,
   "id": "02fcfd97",
   "metadata": {},
   "outputs": [],
   "source": [
    "reporter = IAReporter() \n",
    "ad = reporter.BuildJobReport('sources/17346_AI_transformed.xlsx', 17346, 'ad.look')"
   ]
  },
  {
   "cell_type": "code",
   "execution_count": null,
   "id": "0fb48f4e",
   "metadata": {
    "scrolled": true
   },
   "outputs": [],
   "source": [
    "reporter = IAReporter() \n",
    "ad = reporter.BuildJobReport('sources/17357_AI_transformed.xlsx', 17357, 'ad.look')"
   ]
  },
  {
   "cell_type": "code",
   "execution_count": null,
   "id": "a14649f2",
   "metadata": {},
   "outputs": [],
   "source": [
    "reporter = IAReporter() \n",
    "ad = reporter.BuildJobReport('sources/17337_AI_transformed.xlsx', 17337, 'ad.look')"
   ]
  },
  {
   "cell_type": "code",
   "execution_count": 2,
   "id": "07dd1a60-67e0-483c-a09e-5257ad3e9a08",
   "metadata": {
    "tags": []
   },
   "outputs": [
    {
     "name": "stdout",
     "output_type": "stream",
     "text": [
      "Job  17363\n",
      "Этого проекта нет в базе. Добавлено\n",
      "Отчет готов\n"
     ]
    }
   ],
   "source": [
    "reporter = IAReporter() \n",
    "ad = reporter.BuildJobReport('sources/17363_AI_transformed.xlsx', 17363, 'ad.look')"
   ]
  },
  {
   "cell_type": "code",
   "execution_count": 3,
   "id": "ae0e226e-3636-4252-9dcb-7723d1b3eda5",
   "metadata": {
    "tags": []
   },
   "outputs": [
    {
     "name": "stdout",
     "output_type": "stream",
     "text": [
      "Job  17362\n",
      "Этого проекта нет в базе. Добавлено\n",
      "Отчет готов\n"
     ]
    }
   ],
   "source": [
    "reporter = IAReporter() \n",
    "ad = reporter.BuildJobReport('sources/17362_AI_transformed.xlsx', 17362, 'ad.look')"
   ]
  },
  {
   "cell_type": "code",
   "execution_count": null,
   "id": "457cf99b",
   "metadata": {
    "tags": []
   },
   "outputs": [
    {
     "name": "stdout",
     "output_type": "stream",
     "text": [
      "Job  17342\n",
      "Этот проект уже в базе\n"
     ]
    }
   ],
   "source": [
    "reporter = IAReporter() \n",
    "ad = reporter.BuildJobReport('sources/17342_AI_transformed.xlsx', 17342, 'adhoq')"
   ]
  },
  {
   "cell_type": "code",
   "execution_count": 3,
   "id": "4fdc76bb",
   "metadata": {},
   "outputs": [
    {
     "name": "stdout",
     "output_type": "stream",
     "text": [
      "Job  17352\n",
      "Этот проект уже в базе\n",
      "Отчет готов\n"
     ]
    }
   ],
   "source": [
    "reporter = IAReporter() \n",
    "ad = reporter.BuildJobReport('sources/17352_AI_transformed.xlsx', 17352, 'adhoq')"
   ]
  },
  {
   "cell_type": "code",
   "execution_count": 3,
   "id": "bec3bf23-3b7e-408c-954b-8041b308d866",
   "metadata": {
    "tags": []
   },
   "outputs": [
    {
     "name": "stdout",
     "output_type": "stream",
     "text": [
      "Job  17400\n",
      "Этого проекта нет в базе. Добавлено\n",
      "Отчет готов\n"
     ]
    }
   ],
   "source": [
    "reporter = IAReporter() \n",
    "ad = reporter.BuildJobReport('sources/17400_AI_transformed.xlsx', 17400, 'ad.look')"
   ]
  },
  {
   "cell_type": "code",
   "execution_count": 2,
   "id": "9726636a-3416-4539-a7f9-b3cbe657052b",
   "metadata": {
    "tags": []
   },
   "outputs": [
    {
     "name": "stdout",
     "output_type": "stream",
     "text": [
      "Job  16962\n",
      "Этот проект уже в базе\n",
      "Отчет готов\n"
     ]
    }
   ],
   "source": [
    "reporter = IAReporter() \n",
    "ad = reporter.BuildJobReport('sources/16962_AI_transformed.xlsx', 16962, 'adhoq')"
   ]
  },
  {
   "cell_type": "code",
   "execution_count": 8,
   "id": "e8152af3",
   "metadata": {},
   "outputs": [
    {
     "name": "stdout",
     "output_type": "stream",
     "text": [
      "Job  17402\n",
      "Этого проекта нет в базе. Добавлено\n",
      "Отчет готов\n"
     ]
    }
   ],
   "source": [
    "reporter = IAReporter() \n",
    "ad = reporter.BuildJobReport('sources/17402_AI_transformed.xlsx', 17402, 'ad.look')"
   ]
  },
  {
   "cell_type": "code",
   "execution_count": 2,
   "id": "8cb121fe",
   "metadata": {},
   "outputs": [
    {
     "name": "stdout",
     "output_type": "stream",
     "text": [
      "Job  17347\n",
      "Этого проекта нет в базе. Добавлено\n",
      "Отчет готов\n"
     ]
    }
   ],
   "source": [
    "reporter = IAReporter() \n",
    "ad = reporter.BuildJobReport('sources/17347_AI_transformed.xlsx', 17347, 'adhoq')"
   ]
  },
  {
   "cell_type": "code",
   "execution_count": 2,
   "id": "8b07b8e4-3899-484e-a775-9d213d45fc7a",
   "metadata": {
    "tags": []
   },
   "outputs": [
    {
     "name": "stdout",
     "output_type": "stream",
     "text": [
      "Job  17554\n",
      "Этого проекта нет в базе. Добавлено\n",
      "Отчет готов\n"
     ]
    }
   ],
   "source": [
    "reporter = IAReporter() \n",
    "ad = reporter.BuildJobReport('sources/17554_AI_transformed.xlsx', 17554, 'ad.look')"
   ]
  },
  {
   "cell_type": "code",
   "execution_count": 2,
   "id": "005d0698-acbe-4087-ae3a-7c82373cc919",
   "metadata": {
    "tags": []
   },
   "outputs": [
    {
     "name": "stdout",
     "output_type": "stream",
     "text": [
      "Job  17338\n",
      "Этого проекта нет в базе. Добавлено\n",
      "Отчет готов\n"
     ]
    }
   ],
   "source": [
    "reporter = IAReporter() \n",
    "ad = reporter.BuildJobReport('sources/17338_AI_transformed.xlsx', 17338, 'ad.look')"
   ]
  },
  {
   "cell_type": "code",
   "execution_count": 2,
   "id": "52c657fe-6eb4-4133-bf98-7fe8bf59727f",
   "metadata": {
    "tags": []
   },
   "outputs": [
    {
     "name": "stdout",
     "output_type": "stream",
     "text": [
      "Job  17509\n",
      "Этого проекта нет в базе. Добавлено\n",
      "Отчет готов\n"
     ]
    }
   ],
   "source": [
    "reporter = IAReporter() \n",
    "ad = reporter.BuildJobReport('sources/17509_AI_transformed.xlsx', 17509, 'ad.look')"
   ]
  },
  {
   "cell_type": "code",
   "execution_count": 3,
   "id": "1862b633-bfe8-453d-b964-81e3b164d767",
   "metadata": {
    "tags": []
   },
   "outputs": [
    {
     "name": "stdout",
     "output_type": "stream",
     "text": [
      "Job  17553\n",
      "Этого проекта нет в базе. Добавлено\n",
      "Отчет готов\n"
     ]
    }
   ],
   "source": [
    "reporter = IAReporter() \n",
    "ad = reporter.BuildJobReport('sources/17553_AI_transformed.xlsx', 17553, 'ad.look')"
   ]
  },
  {
   "cell_type": "code",
   "execution_count": 3,
   "id": "4cae873c-9df0-45a8-b953-3a1ee5ee672f",
   "metadata": {
    "tags": []
   },
   "outputs": [
    {
     "name": "stdout",
     "output_type": "stream",
     "text": [
      "Job  17470\n",
      "Этого проекта нет в базе. Добавлено\n",
      "Отчет готов\n"
     ]
    }
   ],
   "source": [
    "reporter = IAReporter() \n",
    "ad = reporter.BuildJobReport('sources/17470_AI_transformed.xlsx', 17470, 'ad.look')"
   ]
  },
  {
   "cell_type": "markdown",
   "id": "9c8a788a",
   "metadata": {},
   "source": [
    "# Check database"
   ]
  },
  {
   "cell_type": "code",
   "execution_count": 48,
   "id": "bb8ebfa3",
   "metadata": {},
   "outputs": [
    {
     "name": "stdout",
     "output_type": "stream",
     "text": [
      "Job  17262\n",
      "Этот проект уже в базе\n",
      "Отчет готов\n"
     ]
    }
   ],
   "source": [
    "reporter = IAReporter() \n",
    "ad = reporter.BuildJobReport('sources/17262_AI_transformed.xlsx', 17262, 'ad.look')"
   ]
  },
  {
   "cell_type": "code",
   "execution_count": 6,
   "id": "950efe11",
   "metadata": {},
   "outputs": [],
   "source": [
    "db.Deserialize('dump.pickle')\n",
    "\n",
    "db.DropJobs([17402])\n",
    "db.Serialize('dump.pickle')"
   ]
  },
  {
   "cell_type": "code",
   "execution_count": 7,
   "id": "dd292cbd",
   "metadata": {
    "tags": []
   },
   "outputs": [
    {
     "name": "stdout",
     "output_type": "stream",
     "text": [
      "[16956 17224 17234 17240 17262 17258 17277 17261 17291 17269 17301 17278\n",
      " 17285 17322 17346 17357 17337 17363 17362 17342 17352 17400 16962 17347]\n",
      "Index(['JOB_ID', 'JOB_TYPE', 'QST_NO', 'IA_CELL', 'IA_ORD', 'IA_WORDS',\n",
      "       'IA_MS', 'IA_ANSWER', 'IA_ATTEMP', 'IA_AD_BRAND', 'IA_WTYPE'],\n",
      "      dtype='object') 11\n",
      "Index(['ЗАРЯЖАЮЩИЙ', 'СОВРЕМЕННЫЙ', 'УВЕРЕННАЯ', 'РАДУЮЩИЙ', 'ИТАЛЬЯНСКАЯ',\n",
      "       'ДИНАМИЧНАЯ', 'ИНТЕРЕСНЫЙ', 'КАЧЕСТВЕННАЯ', 'ЮМОРНАЯ', 'НЕМЕЦКАЯ',\n",
      "       ...\n",
      "       'ПОДЛИННЫЕ', 'ЗАБОТЛИВАЯ', 'СТИЛЬНАЯ', 'МОДНАЯ', 'ЯРКАЯ', 'УЛЕТНАЯ',\n",
      "       'СТАРОМОДНАЯ', 'КОМФОРТНАЯ', 'ПРИВЛЕКАТЕЛЬНАЯ', 'БЛИЗКАЯ'],\n",
      "      dtype='object', length=147)\n"
     ]
    }
   ],
   "source": [
    "db = IADatabase()\n",
    "db.Deserialize('dump.pickle')\n",
    "print(db.JobList())\n",
    "print(db.columns, len(db.columns))\n",
    "print(db.loc[:, 'IA_WORDS'].cat.categories)"
   ]
  },
  {
   "cell_type": "markdown",
   "id": "8d650f94",
   "metadata": {},
   "source": [
    "# Sandbox"
   ]
  },
  {
   "cell_type": "code",
   "execution_count": 8,
   "id": "7a0bddb3",
   "metadata": {
    "tags": []
   },
   "outputs": [],
   "source": [
    "reporter = IAReporter()\n",
    "reporter.version\n",
    "\n",
    "#data = reporter.ReadDataFile('sources/17224_AI_transformed.xlsx', 17224, 'ad.look')\n",
    "data = reporter.ReadDataFile('Q:\\\\CS_TEST\\\\AI_test\\\\17276_AI_transformed.xlsx')"
   ]
  },
  {
   "cell_type": "code",
   "execution_count": 9,
   "id": "0aa696dd",
   "metadata": {
    "tags": []
   },
   "outputs": [
    {
     "data": {
      "text/html": [
       "<div>\n",
       "<style scoped>\n",
       "    .dataframe tbody tr th:only-of-type {\n",
       "        vertical-align: middle;\n",
       "    }\n",
       "\n",
       "    .dataframe tbody tr th {\n",
       "        vertical-align: top;\n",
       "    }\n",
       "\n",
       "    .dataframe thead th {\n",
       "        text-align: right;\n",
       "    }\n",
       "</style>\n",
       "<table border=\"1\" class=\"dataframe\">\n",
       "  <thead>\n",
       "    <tr style=\"text-align: right;\">\n",
       "      <th></th>\n",
       "      <th>QST_NO</th>\n",
       "      <th>SEX</th>\n",
       "      <th>QC20</th>\n",
       "      <th>Quota.1</th>\n",
       "      <th>Quota.2</th>\n",
       "      <th>Quota.5</th>\n",
       "      <th>IA_CELL</th>\n",
       "      <th>IA_ORD</th>\n",
       "      <th>IA_WORDS</th>\n",
       "      <th>IA_MS</th>\n",
       "      <th>IA_ANSWER</th>\n",
       "      <th>IA_ATTEMP</th>\n",
       "      <th>IA_AD_BRAND</th>\n",
       "      <th>IA_WTYPE</th>\n",
       "      <th>JOB_ID</th>\n",
       "      <th>JOB_TYPE</th>\n",
       "    </tr>\n",
       "  </thead>\n",
       "  <tbody>\n",
       "    <tr>\n",
       "      <th>0</th>\n",
       "      <td>7</td>\n",
       "      <td>2</td>\n",
       "      <td>1</td>\n",
       "      <td>1</td>\n",
       "      <td>0</td>\n",
       "      <td>0</td>\n",
       "      <td>1</td>\n",
       "      <td>1</td>\n",
       "      <td>УБЕДИТЕЛЬНАЯ</td>\n",
       "      <td>1503</td>\n",
       "      <td>No</td>\n",
       "      <td>1</td>\n",
       "      <td>brand</td>\n",
       "      <td>warm_up</td>\n",
       "      <td>17276</td>\n",
       "      <td>adhoq</td>\n",
       "    </tr>\n",
       "    <tr>\n",
       "      <th>1</th>\n",
       "      <td>7</td>\n",
       "      <td>2</td>\n",
       "      <td>1</td>\n",
       "      <td>1</td>\n",
       "      <td>0</td>\n",
       "      <td>0</td>\n",
       "      <td>1</td>\n",
       "      <td>3</td>\n",
       "      <td>НЕИНТЕРЕСНАЯ</td>\n",
       "      <td>1651</td>\n",
       "      <td>Yes</td>\n",
       "      <td>1</td>\n",
       "      <td>brand</td>\n",
       "      <td>warm_up</td>\n",
       "      <td>17276</td>\n",
       "      <td>adhoq</td>\n",
       "    </tr>\n",
       "    <tr>\n",
       "      <th>2</th>\n",
       "      <td>7</td>\n",
       "      <td>2</td>\n",
       "      <td>1</td>\n",
       "      <td>1</td>\n",
       "      <td>0</td>\n",
       "      <td>0</td>\n",
       "      <td>1</td>\n",
       "      <td>5</td>\n",
       "      <td>ВЕЛИКОЛЕПНАЯ</td>\n",
       "      <td>1038</td>\n",
       "      <td>No</td>\n",
       "      <td>1</td>\n",
       "      <td>brand</td>\n",
       "      <td>warm_up</td>\n",
       "      <td>17276</td>\n",
       "      <td>adhoq</td>\n",
       "    </tr>\n",
       "    <tr>\n",
       "      <th>3</th>\n",
       "      <td>7</td>\n",
       "      <td>2</td>\n",
       "      <td>1</td>\n",
       "      <td>1</td>\n",
       "      <td>0</td>\n",
       "      <td>0</td>\n",
       "      <td>1</td>\n",
       "      <td>4</td>\n",
       "      <td>СЕРАЯ</td>\n",
       "      <td>1249</td>\n",
       "      <td>Yes</td>\n",
       "      <td>1</td>\n",
       "      <td>brand</td>\n",
       "      <td>warm_up</td>\n",
       "      <td>17276</td>\n",
       "      <td>adhoq</td>\n",
       "    </tr>\n",
       "    <tr>\n",
       "      <th>4</th>\n",
       "      <td>7</td>\n",
       "      <td>2</td>\n",
       "      <td>1</td>\n",
       "      <td>1</td>\n",
       "      <td>0</td>\n",
       "      <td>0</td>\n",
       "      <td>1</td>\n",
       "      <td>2</td>\n",
       "      <td>ДИНАМИЧНАЯ</td>\n",
       "      <td>1005</td>\n",
       "      <td>No</td>\n",
       "      <td>1</td>\n",
       "      <td>brand</td>\n",
       "      <td>warm_up</td>\n",
       "      <td>17276</td>\n",
       "      <td>adhoq</td>\n",
       "    </tr>\n",
       "    <tr>\n",
       "      <th>...</th>\n",
       "      <td>...</td>\n",
       "      <td>...</td>\n",
       "      <td>...</td>\n",
       "      <td>...</td>\n",
       "      <td>...</td>\n",
       "      <td>...</td>\n",
       "      <td>...</td>\n",
       "      <td>...</td>\n",
       "      <td>...</td>\n",
       "      <td>...</td>\n",
       "      <td>...</td>\n",
       "      <td>...</td>\n",
       "      <td>...</td>\n",
       "      <td>...</td>\n",
       "      <td>...</td>\n",
       "      <td>...</td>\n",
       "    </tr>\n",
       "    <tr>\n",
       "      <th>3955</th>\n",
       "      <td>639</td>\n",
       "      <td>1</td>\n",
       "      <td>1</td>\n",
       "      <td>0</td>\n",
       "      <td>0</td>\n",
       "      <td>1</td>\n",
       "      <td>1</td>\n",
       "      <td>6</td>\n",
       "      <td>НАТУРАЛЬНАЯ</td>\n",
       "      <td>904</td>\n",
       "      <td>Yes</td>\n",
       "      <td>1</td>\n",
       "      <td>brand</td>\n",
       "      <td>active</td>\n",
       "      <td>17276</td>\n",
       "      <td>adhoq</td>\n",
       "    </tr>\n",
       "    <tr>\n",
       "      <th>3956</th>\n",
       "      <td>639</td>\n",
       "      <td>1</td>\n",
       "      <td>1</td>\n",
       "      <td>0</td>\n",
       "      <td>0</td>\n",
       "      <td>1</td>\n",
       "      <td>1</td>\n",
       "      <td>7</td>\n",
       "      <td>КАЧЕСТВЕННАЯ</td>\n",
       "      <td>611</td>\n",
       "      <td>Yes</td>\n",
       "      <td>1</td>\n",
       "      <td>brand</td>\n",
       "      <td>active</td>\n",
       "      <td>17276</td>\n",
       "      <td>adhoq</td>\n",
       "    </tr>\n",
       "    <tr>\n",
       "      <th>3957</th>\n",
       "      <td>639</td>\n",
       "      <td>1</td>\n",
       "      <td>1</td>\n",
       "      <td>0</td>\n",
       "      <td>0</td>\n",
       "      <td>1</td>\n",
       "      <td>1</td>\n",
       "      <td>5</td>\n",
       "      <td>ОБЫЧНАЯ</td>\n",
       "      <td>1615</td>\n",
       "      <td>No</td>\n",
       "      <td>1</td>\n",
       "      <td>brand</td>\n",
       "      <td>active</td>\n",
       "      <td>17276</td>\n",
       "      <td>adhoq</td>\n",
       "    </tr>\n",
       "    <tr>\n",
       "      <th>3958</th>\n",
       "      <td>639</td>\n",
       "      <td>1</td>\n",
       "      <td>1</td>\n",
       "      <td>0</td>\n",
       "      <td>0</td>\n",
       "      <td>1</td>\n",
       "      <td>1</td>\n",
       "      <td>9</td>\n",
       "      <td>ОБЪЕДИНЯЮЩАЯ</td>\n",
       "      <td>943</td>\n",
       "      <td>Yes</td>\n",
       "      <td>1</td>\n",
       "      <td>brand</td>\n",
       "      <td>active</td>\n",
       "      <td>17276</td>\n",
       "      <td>adhoq</td>\n",
       "    </tr>\n",
       "    <tr>\n",
       "      <th>3959</th>\n",
       "      <td>639</td>\n",
       "      <td>1</td>\n",
       "      <td>1</td>\n",
       "      <td>0</td>\n",
       "      <td>0</td>\n",
       "      <td>1</td>\n",
       "      <td>1</td>\n",
       "      <td>8</td>\n",
       "      <td>ПРОВЕРЕННАЯ</td>\n",
       "      <td>771</td>\n",
       "      <td>Yes</td>\n",
       "      <td>1</td>\n",
       "      <td>brand</td>\n",
       "      <td>active</td>\n",
       "      <td>17276</td>\n",
       "      <td>adhoq</td>\n",
       "    </tr>\n",
       "  </tbody>\n",
       "</table>\n",
       "<p>3960 rows × 16 columns</p>\n",
       "</div>"
      ],
      "text/plain": [
       "      QST_NO  SEX  QC20  Quota.1  Quota.2  Quota.5  IA_CELL  IA_ORD  \\\n",
       "0          7    2     1        1        0        0        1       1   \n",
       "1          7    2     1        1        0        0        1       3   \n",
       "2          7    2     1        1        0        0        1       5   \n",
       "3          7    2     1        1        0        0        1       4   \n",
       "4          7    2     1        1        0        0        1       2   \n",
       "...      ...  ...   ...      ...      ...      ...      ...     ...   \n",
       "3955     639    1     1        0        0        1        1       6   \n",
       "3956     639    1     1        0        0        1        1       7   \n",
       "3957     639    1     1        0        0        1        1       5   \n",
       "3958     639    1     1        0        0        1        1       9   \n",
       "3959     639    1     1        0        0        1        1       8   \n",
       "\n",
       "          IA_WORDS  IA_MS IA_ANSWER  IA_ATTEMP IA_AD_BRAND IA_WTYPE  JOB_ID  \\\n",
       "0     УБЕДИТЕЛЬНАЯ   1503        No          1       brand  warm_up   17276   \n",
       "1     НЕИНТЕРЕСНАЯ   1651       Yes          1       brand  warm_up   17276   \n",
       "2     ВЕЛИКОЛЕПНАЯ   1038        No          1       brand  warm_up   17276   \n",
       "3            СЕРАЯ   1249       Yes          1       brand  warm_up   17276   \n",
       "4       ДИНАМИЧНАЯ   1005        No          1       brand  warm_up   17276   \n",
       "...            ...    ...       ...        ...         ...      ...     ...   \n",
       "3955   НАТУРАЛЬНАЯ    904       Yes          1       brand   active   17276   \n",
       "3956  КАЧЕСТВЕННАЯ    611       Yes          1       brand   active   17276   \n",
       "3957       ОБЫЧНАЯ   1615        No          1       brand   active   17276   \n",
       "3958  ОБЪЕДИНЯЮЩАЯ    943       Yes          1       brand   active   17276   \n",
       "3959   ПРОВЕРЕННАЯ    771       Yes          1       brand   active   17276   \n",
       "\n",
       "     JOB_TYPE  \n",
       "0       adhoq  \n",
       "1       adhoq  \n",
       "2       adhoq  \n",
       "3       adhoq  \n",
       "4       adhoq  \n",
       "...       ...  \n",
       "3955    adhoq  \n",
       "3956    adhoq  \n",
       "3957    adhoq  \n",
       "3958    adhoq  \n",
       "3959    adhoq  \n",
       "\n",
       "[3960 rows x 16 columns]"
      ]
     },
     "execution_count": 9,
     "metadata": {},
     "output_type": "execute_result"
    }
   ],
   "source": [
    "data"
   ]
  },
  {
   "cell_type": "code",
   "execution_count": 28,
   "id": "f49db811",
   "metadata": {
    "tags": []
   },
   "outputs": [
    {
     "name": "stdout",
     "output_type": "stream",
     "text": [
      "Working with this file: C:\\!Work\\2023 IA\\IntuitiveAssociations\\sources\\17276_AI_transformed.xlsx\n",
      "Этот проект уже в базе\n",
      "Отчет готов\n"
     ]
    }
   ],
   "source": []
  }
 ],
 "metadata": {
  "kernelspec": {
   "display_name": "Python 3 (ipykernel)",
   "language": "python",
   "name": "python3"
  },
  "language_info": {
   "codemirror_mode": {
    "name": "ipython",
    "version": 3
   },
   "file_extension": ".py",
   "mimetype": "text/x-python",
   "name": "python",
   "nbconvert_exporter": "python",
   "pygments_lexer": "ipython3",
   "version": "3.11.5"
  }
 },
 "nbformat": 4,
 "nbformat_minor": 5
}
