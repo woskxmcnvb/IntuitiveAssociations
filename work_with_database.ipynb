{
 "cells": [
  {
   "cell_type": "code",
   "execution_count": 1,
   "id": "33c5443f",
   "metadata": {},
   "outputs": [],
   "source": [
    "%load_ext autoreload\n",
    "%autoreload 2\n",
    "\n",
    "import pandas as pd \n",
    "import numpy as np\n",
    "\n",
    "import matplotlib.pyplot as plt \n",
    "import seaborn as sns\n",
    "\n",
    "from IntuitiveAssociations import IADatabase, IAReporter  "
   ]
  },
  {
   "cell_type": "markdown",
   "id": "5fac4b86",
   "metadata": {
    "heading_collapsed": true
   },
   "source": [
    "# Первоначальная заливка. Не использовать больше "
   ]
  },
  {
   "cell_type": "code",
   "execution_count": 3,
   "id": "ce094520",
   "metadata": {
    "hidden": true
   },
   "outputs": [],
   "source": [
    "db = IADatabase()\n",
    "db.Serialize('dump.pickle')"
   ]
  },
  {
   "cell_type": "code",
   "execution_count": 4,
   "id": "9648c3cd",
   "metadata": {
    "hidden": true
   },
   "outputs": [
    {
     "name": "stdout",
     "output_type": "stream",
     "text": [
      "Этого проекта нет в базе. Добавлено\n",
      "Отчет готов\n",
      "Этого проекта нет в базе. Добавлено\n",
      "Отчет готов\n",
      "Этого проекта нет в базе. Добавлено\n",
      "Отчет готов\n",
      "Этого проекта нет в базе. Добавлено\n",
      "Отчет готов\n",
      "Этого проекта нет в базе. Добавлено\n",
      "Отчет готов\n",
      "Этого проекта нет в базе. Добавлено\n",
      "Отчет готов\n"
     ]
    }
   ],
   "source": [
    "reporter = IAReporter() \n",
    "ad = reporter.BuildJobReport('sources/16956_AI_transformed.xlsx', 16956, 'adhoq')\n",
    "\n",
    "reporter = IAReporter() \n",
    "ad = reporter.BuildJobReport('sources/17224_AI_transformed.xlsx', 17224, 'ad.look')\n",
    "\n",
    "reporter = IAReporter() \n",
    "ad = reporter.BuildJobReport('sources/17234_AI_transformed.xlsx', 17234, 'ad.look')\n",
    "\n",
    "reporter = IAReporter() \n",
    "ad = reporter.BuildJobReport('sources/17240_AI_transformed.xlsx', 17240, 'adhoq')\n",
    "\n",
    "reporter = IAReporter() \n",
    "ad = reporter.BuildJobReport('sources/17258_AI_transformed.xlsx', 17258, 'ad.look')\n",
    "\n",
    "reporter = IAReporter() \n",
    "ad = reporter.BuildJobReport('sources/17262_AI_transformed.xlsx', 17262, 'ad.look')"
   ]
  },
  {
   "cell_type": "markdown",
   "id": "9c8a788a",
   "metadata": {},
   "source": [
    "# Check database"
   ]
  },
  {
   "cell_type": "code",
   "execution_count": 2,
   "id": "bb8ebfa3",
   "metadata": {},
   "outputs": [
    {
     "name": "stdout",
     "output_type": "stream",
     "text": [
      "Этот проект уже в базе\n",
      "Отчет готов\n"
     ]
    }
   ],
   "source": [
    "reporter = IAReporter() \n",
    "ad = reporter.BuildJobReport('sources/17240_AI_transformed.xlsx', 17240, 'adhoq')"
   ]
  },
  {
   "cell_type": "code",
   "execution_count": 5,
   "id": "dd292cbd",
   "metadata": {},
   "outputs": [
    {
     "name": "stdout",
     "output_type": "stream",
     "text": [
      "[16956 17224 17234 17240 17258 17262]\n",
      "Index(['JOB_ID', 'JOB_TYPE', 'QST_NO', 'IA_CELL', 'IA_ORD', 'IA_WORDS',\n",
      "       'IA_MS', 'IA_ANSWER', 'IA_ATTEMP', 'IA_AD_BRAND', 'IA_WTYPE'],\n",
      "      dtype='object') 11\n",
      "Index(['НАДЕЖНАЯ', 'УЛЕТНАЯ', 'ЖЕНСТВЕННАЯ', 'ДРУЖЕЛЮБНАЯ', 'ИЗЫСКАННАЯ',\n",
      "       'ПОЗИТИВНАЯ', 'ЭНЕРГИЧНАЯ', 'ЯРКАЯ', 'ПРОВЕРЕННАЯ', 'ОБЪЕДИНЯЮЩАЯ',\n",
      "       'БЕЗОПАСНАЯ', 'ДОСТУПНАЯ', 'СТИЛЬНАЯ', 'ДИНАМИЧНАЯ', 'БОДРЯЩИЙ',\n",
      "       'ОРИГИНАЛЬНЫЙ', 'ПРЕМИАЛЬНАЯ', 'УНИКАЛЬНАЯ', 'ЛУЧШАЯ', 'СТАРОМОДНЫЙ',\n",
      "       'НЕИЗВЕСТНАЯ', 'ВЕЛИКОЛЕПНАЯ', 'НЕПОНЯТНЫЙ', 'АППЕТИТНАЯ', 'ЗАУРЯДНАЯ',\n",
      "       'ЗАРЯЖАЮЩИЙ', 'ИННОВАЦИОННАЯ', 'НЕИНТЕРЕСНАЯ', 'ПРОРЫВНАЯ', 'ДЕРЗКАЯ',\n",
      "       'ИНТЕРЕСНЫЙ', 'ЭКОЛОГИЧНАЯ', 'ЧЕСТНАЯ', 'ТЕХНОЛОГИЧНАЯ',\n",
      "       'МНОГОФУНКЦИОНАЛЬНАЯ', 'ПРИЯТНАЯ', 'ЮМОРНАЯ', 'ПРЕМИАЛЬНЫЙ',\n",
      "       'УНИВЕРСАЛЬНАЯ', 'УДИВЛЯЮЩАЯ', 'НАТУРАЛЬНАЯ', 'СОВРЕМЕННЫЙ',\n",
      "       'СТАРОМОДНАЯ', 'КЛАССНЫЙ', 'СЫТНАЯ', 'ВДОХНОВЛЯЮЩАЯ', 'ЭКСПЕРТНАЯ',\n",
      "       'КРУТАЯ', 'БЛИЗКАЯ', 'НАСЛАЖДЕНИЕ', 'ВКУСНЫЙ', 'ПОПУЛЯРНЫЙ',\n",
      "       'НОВАТОРСКИЙ', 'ТЕПЛАЯ', 'НЕПОВТОРИМАЯ', 'СОМНИТЕЛЬНЫЙ', 'АУТЕНТИЧНАЯ',\n",
      "       'УБЕДИТЕЛЬНАЯ', 'СОВРЕМЕННАЯ', 'КОМФОРТНАЯ', 'КАЧЕСТВЕННАЯ', 'БОДРЯЩАЯ',\n",
      "       'МАСТЕРСТВО', 'ЕЖЕДНЕВНАЯ', 'ВКУСНАЯ', 'РАДУЮЩИЙ', 'РАССЛАБЛЯЮЩИЙ',\n",
      "       'ИТАЛЬЯНСКАЯ', 'СЕМЕЙНАЯ', 'СЕРАЯ', 'МОЛОДЕЖНЫЙ', 'НЕЕСТЕСТВЕННАЯ',\n",
      "       'ДЕШЕВЫЙ', 'ПРОГРЕССИВНАЯ', 'ИНТЕРЕСНАЯ', 'БРЕДОВАЯ', 'КРАСИВАЯ',\n",
      "       'УВЕРЕННАЯ', 'ПОПУЛЯРНАЯ', 'ПОСРЕДСТВЕННЫЙ', 'КАЧЕСТВЕННЫЙ',\n",
      "       'ОТСТАЛАЯ'],\n",
      "      dtype='object')\n"
     ]
    }
   ],
   "source": [
    "db = IADatabase()\n",
    "db.Deserialize('dump.pickle')\n",
    "print(db.JobList())\n",
    "print(db.columns, len(db.columns))\n",
    "print(db.loc[:, 'IA_WORDS'].cat.categories)"
   ]
  },
  {
   "cell_type": "code",
   "execution_count": 7,
   "id": "b263fac0",
   "metadata": {},
   "outputs": [
    {
     "data": {
      "text/plain": [
       "0       1\n",
       "1       1\n",
       "2       2\n",
       "3       1\n",
       "4       1\n",
       "       ..\n",
       "4395    1\n",
       "4396    1\n",
       "4397    1\n",
       "4398    1\n",
       "4399    1\n",
       "Name: IA_ANSWER, Length: 66398, dtype: int32"
      ]
     },
     "execution_count": 7,
     "metadata": {},
     "output_type": "execute_result"
    }
   ],
   "source": [
    "db.loc[:, 'IA_ANSWER']"
   ]
  }
 ],
 "metadata": {
  "kernelspec": {
   "display_name": "Python 3",
   "language": "python",
   "name": "python3"
  },
  "language_info": {
   "codemirror_mode": {
    "name": "ipython",
    "version": 3
   },
   "file_extension": ".py",
   "mimetype": "text/x-python",
   "name": "python",
   "nbconvert_exporter": "python",
   "pygments_lexer": "ipython3",
   "version": "3.8.8"
  }
 },
 "nbformat": 4,
 "nbformat_minor": 5
}
