{
 "cells": [
  {
   "cell_type": "code",
   "execution_count": 3,
   "id": "f682b4bf-5685-4941-9546-98a80669c0b6",
   "metadata": {
    "tags": []
   },
   "outputs": [
    {
     "name": "stdout",
     "output_type": "stream",
     "text": [
      "The autoreload extension is already loaded. To reload it, use:\n",
      "  %reload_ext autoreload\n"
     ]
    }
   ],
   "source": [
    "import os\n",
    "\n",
    "%load_ext autoreload\n",
    "%autoreload 2\n",
    "\n",
    "from IntuitiveAssociations import IADatabase, IAReporter  "
   ]
  },
  {
   "cell_type": "code",
   "execution_count": 4,
   "id": "cdc5a79d-bc61-45d6-a220-f7a441377e78",
   "metadata": {
    "tags": []
   },
   "outputs": [
    {
     "data": {
      "text/plain": [
       "'C:\\\\!Work\\\\2023 IA\\\\IntuitiveAssociations\\\\sources'"
      ]
     },
     "execution_count": 4,
     "metadata": {},
     "output_type": "execute_result"
    }
   ],
   "source": [
    "os.path.exists(\"C:\\\\!Work\\\\2023 IA\\\\IntuitiveAssociations\\\\sources\\\\17276_AI_transformed.xlsx\")\n",
    "os.path.dirname(\"C:\\\\!Work\\\\2023 IA\\\\IntuitiveAssociations\\\\sources\\\\17276_AI_transformed.xlsx\")"
   ]
  },
  {
   "cell_type": "code",
   "execution_count": 5,
   "id": "1e41863b-077f-4ff4-ad22-d12953bd34e5",
   "metadata": {
    "tags": []
   },
   "outputs": [
    {
     "name": "stdout",
     "output_type": "stream",
     "text": [
      "Working with this file: C:\\!Work\\2023 IA\\IntuitiveAssociations\\sources\\17276_AI_transformed.xlsx\n",
      "Этот проект уже в базе\n",
      "Отчет готов\n"
     ]
    }
   ],
   "source": [
    "run main.py \"C:\\\\!Work\\\\2023 IA\\\\IntuitiveAssociations\\\\sources\\\\17276_AI_transformed.xlsx\""
   ]
  },
  {
   "cell_type": "code",
   "execution_count": null,
   "id": "d3ce7861-297d-47ef-8188-bca0e3210c42",
   "metadata": {},
   "outputs": [],
   "source": [
    "#Internals"
   ]
  },
  {
   "cell_type": "code",
   "execution_count": 8,
   "id": "6817b4b0-8cbe-4d3c-8260-830fe80daa81",
   "metadata": {
    "tags": []
   },
   "outputs": [],
   "source": []
  },
  {
   "cell_type": "code",
   "execution_count": 4,
   "id": "23faa687-3b07-4db6-a2b4-ba584273025a",
   "metadata": {
    "tags": []
   },
   "outputs": [
    {
     "name": "stdout",
     "output_type": "stream",
     "text": [
      "Этот проект уже в базе\n",
      "Отчет готов\n"
     ]
    }
   ],
   "source": [
    "reporter = IAReporter()\n",
    "rep = reporter.BuildJobReport(\"C:\\\\!Work\\\\2023 IA\\\\IntuitiveAssociations\\\\sources\\\\17352_AI_transformed.xlsx\")"
   ]
  }
 ],
 "metadata": {
  "kernelspec": {
   "display_name": "Python 3 (ipykernel)",
   "language": "python",
   "name": "python3"
  },
  "language_info": {
   "codemirror_mode": {
    "name": "ipython",
    "version": 3
   },
   "file_extension": ".py",
   "mimetype": "text/x-python",
   "name": "python",
   "nbconvert_exporter": "python",
   "pygments_lexer": "ipython3",
   "version": "3.11.5"
  }
 },
 "nbformat": 4,
 "nbformat_minor": 5
}
